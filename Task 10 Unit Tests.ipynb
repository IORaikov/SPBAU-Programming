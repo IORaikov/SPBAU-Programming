{
 "cells": [
  {
   "cell_type": "markdown",
   "metadata": {},
   "source": [
    "*Реализовать модульный тест (см. ссылку внизу в списке не литературы) для алгоритма Евклида и проверки числа на простоту из задания 7.*"
   ]
  },
  {
   "cell_type": "markdown",
   "metadata": {},
   "source": [
    "# 7.А"
   ]
  },
  {
   "cell_type": "code",
   "execution_count": 9,
   "metadata": {},
   "outputs": [
    {
     "name": "stderr",
     "output_type": "stream",
     "text": [
      "C:\\Users\\User\\AppData\\Roaming\\jupyter\\runtime\\kernel-f5d384f0-7f7e-47d8-bb23-b16c8c601c7c (unittest.loader._FailedTest) ... ERROR\n",
      "\n",
      "======================================================================\n",
      "ERROR: C:\\Users\\User\\AppData\\Roaming\\jupyter\\runtime\\kernel-f5d384f0-7f7e-47d8-bb23-b16c8c601c7c (unittest.loader._FailedTest)\n",
      "----------------------------------------------------------------------\n",
      "AttributeError: module '__main__' has no attribute 'C:\\Users\\User\\AppData\\Roaming\\jupyter\\runtime\\kernel-f5d384f0-7f7e-47d8-bb23-b16c8c601c7c'\n",
      "\n",
      "----------------------------------------------------------------------\n",
      "Ran 1 test in 0.002s\n",
      "\n",
      "FAILED (errors=1)\n"
     ]
    }
   ],
   "source": [
    "import functools\n",
    "import unittest\n",
    "@functools.lru_cache()\n",
    "def gcd_recursive(a: 'int',b: 'int') -> 'int':\n",
    "    if(b==0):\n",
    "        return a\n",
    "    return gcd_recursive(b,a%b)\n",
    "@functools.lru_cache()\n",
    "def gcd_cyclic(a: 'int',b: 'int') -> 'int':\n",
    "    if(b>a):\n",
    "        a,b=b,a\n",
    "    while(a>0 and b>0):\n",
    "        d=b\n",
    "        b=a%b\n",
    "        a=d\n",
    "    return a\n",
    "class TestSimpleEuclid(unittest.TestCase):\n",
    "    def test_big_primes(self):\n",
    "        self.assertEqual(gcd_cyclic(1000000007,10000000033),1)\n",
    "class TestEuclidEquivalence(unittest.TestCase):\n",
    "    def test_first_1000(self):\n",
    "        for i in range(0,1000):\n",
    "            for j in range(0,1000):\n",
    "                self.assertEqual(gcd_recursive(i,j),gcd_cyclic(i,j))\n",
    "if __name__ == '__main__':\n",
    "    unittest.main(verbosity=2,exit=False)"
   ]
  },
  {
   "cell_type": "code",
   "execution_count": null,
   "metadata": {},
   "outputs": [],
   "source": []
  }
 ],
 "metadata": {
  "kernelspec": {
   "display_name": "Python 3",
   "language": "python",
   "name": "python3"
  },
  "language_info": {
   "codemirror_mode": {
    "name": "ipython",
    "version": 3
   },
   "file_extension": ".py",
   "mimetype": "text/x-python",
   "name": "python",
   "nbconvert_exporter": "python",
   "pygments_lexer": "ipython3",
   "version": "3.7.0"
  }
 },
 "nbformat": 4,
 "nbformat_minor": 2
}
