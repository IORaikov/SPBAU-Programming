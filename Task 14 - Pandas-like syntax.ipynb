{
 "cells": [
  {
   "cell_type": "code",
   "execution_count": 36,
   "metadata": {},
   "outputs": [
    {
     "name": "stdout",
     "output_type": "stream",
     "text": [
      "[1, 2, 3, 4, 5, 6]\n",
      "2\n",
      "[True, True, False, False, False, False]\n",
      "[1, 2, 3, 4, 5, 6]\n",
      "[]\n",
      "[5, 5, 5, 4, 5, 6]\n"
     ]
    }
   ],
   "source": [
    "class PandasSeries(list):\n",
    "    #redefine all the comparisons\n",
    "    def __lt__(self,other):\n",
    "        if(isinstance(other,int) or isinstance(other,float)):\n",
    "            return self.__lt__([other]*len(self))\n",
    "        return [self[i]<other[i] for i in range(min(len(self),len(other)))]\n",
    "    def __gt__(self,other):\n",
    "        if(isinstance(other,int) or isinstance(other,float)):\n",
    "            return self.__gt__([other]*len(self))\n",
    "        return [self[i]>other[i] for i in range(min(len(self),len(other)))]\n",
    "    def __le__(self,other):\n",
    "        if(isinstance(other,int) or isinstance(other,float)):\n",
    "            return self.__le__([other]*len(self))\n",
    "        return [self[i]<=other[i] for i in range(min(len(self),len(other)))]\n",
    "    def __ge__(self,other):\n",
    "        if(isinstance(other,int) or isinstance(other,float)):\n",
    "            return self.__ge__([other]*len(self))\n",
    "        return [self[i]>=other[i] for i in range(min(len(self),len(other)))]\n",
    "    def __eq__(self,other):\n",
    "        if(isinstance(other,int) or isinstance(other,float)):\n",
    "            return self.__eq__([other]*len(self))\n",
    "        return [self[i]==other[i] for i in range(min(len(self),len(other)))]\n",
    "    def __ne__(self,other):\n",
    "        if(isinstance(other,int) or isinstance(other,float)):\n",
    "            return self.__ne__([other]*len(self))\n",
    "        return [self[i]!=other[i] for i in range(min(len(self),len(other)))]\n",
    "    #and the selections\n",
    "    def __getitem__(self,key):\n",
    "        if(isinstance(key,slice) or isinstance(key,int)):\n",
    "            return list.__getitem__(self,key)\n",
    "        return [self[i] for i in range(min(len(self),len(key))) if key[i]==True]\n",
    "    def __setitem__(self,key,value):\n",
    "        if(isinstance(key,slice) or isinstance(key,int)):\n",
    "            return list.__setitem__(self,key,value)\n",
    "        for i in range(min(len(self),len(key))):\n",
    "            if key[i]==True:\n",
    "                self[i]=value\n",
    "    \n",
    "a = PandasSeries([1,2,3,4,5,6])\n",
    "\n",
    "print(a[0:6])\n",
    "print(a[1])\n",
    "print(a<3)\n",
    "print(a[a==a])\n",
    "print(a[a!=a])\n",
    "a[a<=3]=5\n",
    "print(a)"
   ]
  },
  {
   "cell_type": "code",
   "execution_count": 3,
   "metadata": {},
   "outputs": [
    {
     "data": {
      "text/plain": [
       "[2, 2, 2]"
      ]
     },
     "execution_count": 3,
     "metadata": {},
     "output_type": "execute_result"
    }
   ],
   "source": [
    "[2]*3"
   ]
  },
  {
   "cell_type": "code",
   "execution_count": null,
   "metadata": {},
   "outputs": [],
   "source": []
  }
 ],
 "metadata": {
  "kernelspec": {
   "display_name": "Python 3",
   "language": "python",
   "name": "python3"
  },
  "language_info": {
   "codemirror_mode": {
    "name": "ipython",
    "version": 3
   },
   "file_extension": ".py",
   "mimetype": "text/x-python",
   "name": "python",
   "nbconvert_exporter": "python",
   "pygments_lexer": "ipython3",
   "version": "3.7.0"
  }
 },
 "nbformat": 4,
 "nbformat_minor": 2
}
