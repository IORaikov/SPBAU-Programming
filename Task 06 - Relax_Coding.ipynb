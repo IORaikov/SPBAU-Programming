{
 "cells": [
  {
   "cell_type": "markdown",
   "metadata": {},
   "source": [
    "# Немного простого кодирования\n",
    "\n",
    "Для того чтобы размяться, расслабиться и получить ещё немножко удовольствия и очков.\n",
    "\n",
    "## A. Алгоритм Евклида\n",
    "\n",
    "[Тот самый](http://e-maxx.ru/algo/export_euclid_algorithm).\n",
    "\n",
    "Даны $a$ и $b$.\n",
    "\n",
    "$$\n",
    "\\text{gcd}(a,b) = \\begin{cases}\n",
    "a, & b = 0\\\\\n",
    "\\text{gcd}(b, a\\mod{}b), & b \\ne 0\n",
    "\\end{cases}\n",
    "$$\n",
    "\n",
    "Реализовать $\\text{gcd}$ на Python.\n",
    "\n"
   ]
  },
  {
   "cell_type": "code",
   "execution_count": 1,
   "metadata": {},
   "outputs": [],
   "source": [
    "import functools\n",
    "@functools.lru_cache()\n",
    "def gcd_recursive(a: 'int',b: 'int') -> 'int':\n",
    "    if(b==0):\n",
    "        return a\n",
    "    return gcd_recursive(b,a%b)\n",
    "@functools.lru_cache()\n",
    "def gcd_cyclic(a: 'int',b: 'int') -> 'int':\n",
    "    if(b>a):\n",
    "        a,b=b,a\n",
    "    while(a>0 and b>0):\n",
    "        d=b\n",
    "        b=a%b\n",
    "        a=d\n",
    "    return a\n",
    "#ok=True\n",
    "#for i in range(0,1000):\n",
    "#    for j in range(0,1000):\n",
    "#        if(gcd_recursive(i,j)!=gcd_cyclic(i,j)):\n",
    "#            print(f\"Failure on i={i},j={j}\")\n",
    "#            ok=false\n",
    "#if ok:print(\"Testing succesful on a,b <= 1000\")\n",
    "#%timeit gcd_recursive(15273,22996)\n",
    "#%timeit gcd_cyclic(15273,22996)"
   ]
  },
  {
   "cell_type": "markdown",
   "metadata": {},
   "source": [
    "## B. Реализовать функцию, которая отвечает, простое число, или нет\n",
    "\n",
    "Т.е. возвращает `True`, если оно простое, и `False` в противном случае.\n",
    "Можно совершенно «в лоб», с проверкой на делимость, но чтобы проверок было не больше, чем необходимо.\n",
    "\n",
    "Но поскольку это решение неоптимально, следует воспользоваться возможностями *мемоизации* — декоратором [`@functools.lru_cache`](https://docs.python.org/3/library/functools.html#functools.lru_cache). Он похволяет кешировать результаты функций **без побочных эффектов**, чтобы не считать многократно то, что уже посчитано. При этом при помощи директивы `%timeit` можно посмотреть, насколько мемоизация ускоряет работу функции."
   ]
  },
  {
   "cell_type": "code",
   "execution_count": 2,
   "metadata": {},
   "outputs": [
    {
     "name": "stdout",
     "output_type": "stream",
     "text": [
      "True\n"
     ]
    }
   ],
   "source": [
    "import functools\n",
    "\n",
    "def is_simple(value: 'int') -> 'bool':\n",
    "    if(value == 2):\n",
    "        return True\n",
    "    if(value % 2 == 0):\n",
    "        return False\n",
    "    a=3\n",
    "    while(a*a <= value):\n",
    "        if(value % a == 0):\n",
    "            return False\n",
    "        a+=2\n",
    "    return True\n",
    "\n",
    "@functools.lru_cache()\n",
    "def is_simple_cached(value: 'int') -> 'bool':\n",
    "    return is_simple(value)\n",
    "\n",
    "# На самом деле можно было написать так:\n",
    "# is_simple_cached = functools.lru_cache()(is_simple)\n",
    "# Всем понятно, почему две пары скобок?\n",
    "\n",
    "#print(\"Простые в первой сотне: \"[i for i in range(100) if is_simple_cached(i)])\n",
    "\n",
    "#%timeit is_simple(500)\n",
    "#%timeit is_simple_cached(500)\n",
    "# Впечатляет разница в скорости?\n",
    "# Не очень - 187 vs 127 ns per loop - моя реализация четные ловит за одно деление с остатком.\n",
    "#print(is_simple_cached(500))\n",
    "\n",
    "print(is_simple_cached(6343))#Простое"
   ]
  },
  {
   "cell_type": "markdown",
   "metadata": {},
   "source": [
    "## C. Вывод чисел в системе счисления с произвольным (но не более 36) основанием\n",
    "\n",
    "Если основание не превосходит $B \\le 10$, используются цифры $\\{0,1,\\ldots, B-1\\}$. Если от $10 < B \\le 36$, то $\\{0,\\ldots, 10, A \\ldots\\}$ в количестве $B$.\n",
    "\n",
    "Конструктор `int` в Python умеет получать $B$ на вход, что много кого не раз выручало:"
   ]
  },
  {
   "cell_type": "code",
   "execution_count": 3,
   "metadata": {},
   "outputs": [
    {
     "name": "stdout",
     "output_type": "stream",
     "text": [
      "44027\n"
     ]
    }
   ],
   "source": [
    "print(int('XYZ', 36))"
   ]
  },
  {
   "cell_type": "markdown",
   "metadata": {},
   "source": [
    "Ещё есть следующие полезные встроенные функции, они выручат нас:"
   ]
  },
  {
   "cell_type": "code",
   "execution_count": 4,
   "metadata": {},
   "outputs": [
    {
     "name": "stdout",
     "output_type": "stream",
     "text": [
      "65\n",
      "B\n"
     ]
    }
   ],
   "source": [
    "# Функция ord — номер символа в наборе Unicode\n",
    "print(ord('A'))\n",
    "\n",
    "# Функция chr — выводит символ с заданным номером:\n",
    "print(chr(ord('A') + 1))"
   ]
  },
  {
   "cell_type": "markdown",
   "metadata": {},
   "source": [
    "А вот такой полезной функции нету. А хочется, чтобы была:"
   ]
  },
  {
   "cell_type": "code",
   "execution_count": 7,
   "metadata": {},
   "outputs": [
    {
     "name": "stdout",
     "output_type": "stream",
     "text": [
      "XYZ\n",
      "1I8N9I6,True\n",
      "11111111111111\n"
     ]
    }
   ],
   "source": [
    "def str_base(value: 'int', base: 'int') -> 'str':\n",
    "    \"\"\"Shows value using number base, e.g. str_base(44027, 36)=='XYZ'\"\"\"\n",
    "    #Хотелось бы как-то закэшировать этот словарь, а не собирать его каждый раз...\n",
    "    if(base<1 or base>36):\n",
    "        raise NotImplementedError(\"Функция предназначена для перевода в базы от 1 до 36\")\n",
    "    if(base==1):\n",
    "        return ''.join(['1']*value)#Определим так, хотя формально это не по условию\n",
    "    aNum=ord('A')\n",
    "    symbols=dict()\n",
    "    for i in range(0,base):\n",
    "        if(i<=9):\n",
    "            symbols[i]=i\n",
    "            continue\n",
    "        symbols[i]=chr(aNum+(i-10))\n",
    "    \n",
    "    n=value\n",
    "    numString = list()\n",
    "    while n>0:\n",
    "        n,mod = divmod(n,base)\n",
    "        numString.append(str(symbols[mod]))\n",
    "    numString.reverse()\n",
    "    return ''.join(numString)\n",
    "\n",
    "print(str_base(44027, 36))  # хочется увидеть 'XYZ'\n",
    "print(str_base(423412331,25)+f\",{int(str_base(423412331,25),25)==423412331}\")\n",
    "print(str_base(14, 1))#14 единиц"
   ]
  },
  {
   "cell_type": "markdown",
   "metadata": {},
   "source": [
    "## D. Расширенный Алгоритм Евклида\n",
    "\n",
    "Тоже [тот самый](http://e-maxx.ru/algo/export_extended_euclid_algorithm).\n",
    "\n",
    "Даны $a$ и $b$. Обратиться к своим знаниям алгебры (если они не помогли, то можно сходить по ссылке выше) и реализовать $\\text{egcd}$, такую что $\\text{egcd}(a, b) = \\left<x, y, \\text{gcd}(a, b)\\right>$, такие что $\\text{gcd}(a, b) = ax + by$."
   ]
  },
  {
   "cell_type": "code",
   "execution_count": 6,
   "metadata": {},
   "outputs": [
    {
     "name": "stdout",
     "output_type": "stream",
     "text": [
      "(1, 0, 1)\n",
      "(1357, -56873, 8)\n",
      "egcd(66315,43838)=(10331,-15628,1)\n",
      "egcd(9135,94815)=(-83,8,315)\n",
      "egcd(99545,27996)=(1697,-6034,1)\n",
      "egcd(65971,54314)=(-9123,11081,1)\n",
      "egcd(53424,80031)=(-1143,763,21)\n",
      "egcd(22784,31313)=(13830,-10063,1)\n",
      "egcd(2865,42196)=(-4875,331,1)\n",
      "egcd(298,51783)=(-16508,95,1)\n",
      "egcd(21162,83394)=(-532,135,6)\n"
     ]
    }
   ],
   "source": [
    "import functools\n",
    "import random\n",
    "@functools.lru_cache()\n",
    "def egcd_recursive(a: 'int',b: 'int') -> 'tuple':\n",
    "    if(b==0):\n",
    "        return (1,0,a)\n",
    "    x1,y1,gcd = egcd_recursive(b,a%b)\n",
    "    #print(f\"egcd({a},{b})=({y1-(b//a)*x1},{x1},{gcd})\")\n",
    "    #print(f\"egcd({b},{a%b})={x1,y1,gcd}\")\n",
    "    return (y1,x1-y1*(a//b),gcd)\n",
    "print(egcd_recursive(1,0))\n",
    "print(egcd_recursive(1312312,31312))\n",
    "for i in range(1,10):\n",
    "    a = random.randint(1,100000)\n",
    "    b = random.randint(1,100000)\n",
    "    x,y,gcd = egcd_recursive(a,b)\n",
    "    print(f\"egcd({a},{b})=({x},{y},{gcd})\")\n",
    "    if(x*a+y*b!=gcd):\n",
    "        print(f\"Error on a={a},b={b}\")\n"
   ]
  },
  {
   "cell_type": "code",
   "execution_count": null,
   "metadata": {},
   "outputs": [],
   "source": []
  }
 ],
 "metadata": {
  "kernelspec": {
   "display_name": "Python 3",
   "language": "python",
   "name": "python3"
  },
  "language_info": {
   "codemirror_mode": {
    "name": "ipython",
    "version": 3
   },
   "file_extension": ".py",
   "mimetype": "text/x-python",
   "name": "python",
   "nbconvert_exporter": "python",
   "pygments_lexer": "ipython3",
   "version": "3.7.0"
  }
 },
 "nbformat": 4,
 "nbformat_minor": 2
}
