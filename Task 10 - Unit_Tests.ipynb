{
 "cells": [
  {
   "cell_type": "markdown",
   "metadata": {},
   "source": [
    "*Реализовать модульный тест (см. ссылку внизу в списке не литературы) для алгоритма Евклида и проверки числа на простоту из задания 7.*"
   ]
  },
  {
   "cell_type": "markdown",
   "metadata": {},
   "source": [
    "# 7.А"
   ]
  },
  {
   "cell_type": "code",
   "execution_count": 4,
   "metadata": {},
   "outputs": [
    {
     "name": "stderr",
     "output_type": "stream",
     "text": [
      "C:\\Users\\User\\AppData\\Roaming\\jupyter\\runtime\\kernel-7827cd8b-678e-4e6c-8736-7a6de433cf3b (unittest.loader._FailedTest) ... ERROR\n",
      "\n",
      "======================================================================\n",
      "ERROR: C:\\Users\\User\\AppData\\Roaming\\jupyter\\runtime\\kernel-7827cd8b-678e-4e6c-8736-7a6de433cf3b (unittest.loader._FailedTest)\n",
      "----------------------------------------------------------------------\n",
      "AttributeError: module '__main__' has no attribute 'C:\\Users\\User\\AppData\\Roaming\\jupyter\\runtime\\kernel-7827cd8b-678e-4e6c-8736-7a6de433cf3b'\n",
      "\n",
      "----------------------------------------------------------------------\n",
      "Ran 1 test in 0.010s\n",
      "\n",
      "FAILED (errors=1)\n"
     ]
    }
   ],
   "source": [
    "# -*- coding: utf-8 -*-\n",
    "import functools\n",
    "import unittest\n",
    "\n",
    "\n",
    "@functools.lru_cache()\n",
    "def gcd_recursive(a: 'int', b: 'int') -> 'int':\n",
    "    if(b == 0):\n",
    "        return a\n",
    "    return gcd_recursive(b, a % b)\n",
    "\n",
    "\n",
    "@functools.lru_cache()\n",
    "def gcd_cyclic(a: 'int', b: 'int') -> 'int':\n",
    "    if(b > a):\n",
    "        a, b = b, a\n",
    "    while(a > 0 and b > 0):\n",
    "        d = b\n",
    "        b = a % b\n",
    "        a = d\n",
    "    return a\n",
    "\n",
    "\n",
    "class TestSimpleEuclid(unittest.TestCase):\n",
    "\n",
    "    def test_big_primes(self):\n",
    "        self.assertEqual(gcd_cyclic(1000000007, 10000000033), 1)\n",
    "\n",
    "\n",
    "class TestEuclidEquivalence(unittest.TestCase):\n",
    "\n",
    "    def test_first_1000(self):\n",
    "        for i in range(0, 1000):\n",
    "            for j in range(0, 1000):\n",
    "                self.assertEqual(gcd_recursive(i, j), gcd_cyclic(i, j))\n",
    "\n",
    "\n",
    "if __name__ == '__main__':\n",
    "    unittest.main(verbosity=2,exit=False)\n"
   ]
  },
  {
   "cell_type": "markdown",
   "metadata": {},
   "source": [
    "# 7.B"
   ]
  },
  {
   "cell_type": "code",
   "execution_count": 6,
   "metadata": {},
   "outputs": [
    {
     "name": "stderr",
     "output_type": "stream",
     "text": [
      "C:\\Users\\User\\AppData\\Roaming\\jupyter\\runtime\\kernel-7827cd8b-678e-4e6c-8736-7a6de433cf3b (unittest.loader._FailedTest) ... ERROR\n",
      "\n",
      "======================================================================\n",
      "ERROR: C:\\Users\\User\\AppData\\Roaming\\jupyter\\runtime\\kernel-7827cd8b-678e-4e6c-8736-7a6de433cf3b (unittest.loader._FailedTest)\n",
      "----------------------------------------------------------------------\n",
      "AttributeError: module '__main__' has no attribute 'C:\\Users\\User\\AppData\\Roaming\\jupyter\\runtime\\kernel-7827cd8b-678e-4e6c-8736-7a6de433cf3b'\n",
      "\n",
      "----------------------------------------------------------------------\n",
      "Ran 1 test in 0.002s\n",
      "\n",
      "FAILED (errors=1)\n"
     ]
    }
   ],
   "source": [
    "import functools\n",
    "import unittest\n",
    "\n",
    "\n",
    "def is_simple(value: 'int') -> 'bool':\n",
    "    if(value == 1):\n",
    "        return False\n",
    "    if(value == 2):\n",
    "        return True\n",
    "    if(value % 2 == 0):\n",
    "        return False\n",
    "    a = 3\n",
    "    while(a * a <= value):\n",
    "        if(value % a == 0):\n",
    "            return False\n",
    "        a += 2\n",
    "    return True\n",
    "\n",
    "\n",
    "@functools.lru_cache()\n",
    "def is_simple_cached(value: 'int') -> 'bool':\n",
    "    return is_simple(value)\n",
    "\n",
    "\n",
    "class TestIsPrime(unittest.TestCase):\n",
    "\n",
    "    def test_2(self):\n",
    "        self.assertTrue(is_simple(2))\n",
    "        self.assertTrue(is_simple_cached(2))\n",
    "\n",
    "    def test_1(self):\n",
    "        self.assertFalse(is_simple(1))\n",
    "        self.assertFalse(is_simple_cached(1))\n",
    "\n",
    "    def test_big_prime(self):\n",
    "        self.assertTrue(is_simple(1000000000039))\n",
    "        self.assertTrue(is_simple_cached(1000000000039))\n",
    "\n",
    "    def test_big_even(self):\n",
    "        self.assertFalse(is_simple(100000003127831239212))\n",
    "        self.assertFalse(is_simple_cached(100000003127831239212))\n",
    "\n",
    "    def test_prime_multiple(self):\n",
    "        self.assertFalse(is_simple(1009 * 1123))\n",
    "        self.assertFalse(is_simple_cached(1009 * 1123))\n",
    "\n",
    "\n",
    "if __name__ == '__main__':\n",
    "    unittest.main(verbosity=2,exit=False)\n",
    "\n"
   ]
  },
  {
   "cell_type": "code",
   "execution_count": null,
   "metadata": {},
   "outputs": [],
   "source": []
  }
 ],
 "metadata": {
  "kernelspec": {
   "display_name": "Python 3",
   "language": "python",
   "name": "python3"
  },
  "language_info": {
   "codemirror_mode": {
    "name": "ipython",
    "version": 3
   },
   "file_extension": ".py",
   "mimetype": "text/x-python",
   "name": "python",
   "nbconvert_exporter": "python",
   "pygments_lexer": "ipython3",
   "version": "3.7.0"
  }
 },
 "nbformat": 4,
 "nbformat_minor": 2
}
