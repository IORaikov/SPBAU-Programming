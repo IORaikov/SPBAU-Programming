{
 "cells": [
  {
   "cell_type": "markdown",
   "metadata": {},
   "source": [
    "# Задание\n",
    "\n",
    "*Предлагается реализовать слкдующие недостающие функции*\n",
    "*Желающие вместо встроенных списков сразу могут использовать `numpy.array` — всё равно этим кончится.*"
   ]
  },
  {
   "cell_type": "code",
   "execution_count": 91,
   "metadata": {},
   "outputs": [
    {
     "name": "stdout",
     "output_type": "stream",
     "text": [
      "res=[4.0, 3.0, -2.0]\n",
      "a*res=[5. 6. 7.],b=[5. 6. 7.]\n"
     ]
    }
   ],
   "source": [
    "import numpy\n",
    "def gauss(a, b):\n",
    "    a = a.copy()\n",
    "    b = b.copy()\n",
    "    num_equations = len(a)\n",
    "    #sort rows of a by first column, descending\n",
    "    sorting =a[:,0].argsort()\n",
    "    a=a[sorting] \n",
    "    a=a[::-1]\n",
    "    b=b[sorting]\n",
    "    b=b[::-1]\n",
    "    def forward(a,b):\n",
    "        for i in range(0,num_equations):\n",
    "            #print(a,b)\n",
    "            if (abs(a[i,i])<1e-9):\n",
    "                for k in range(i+1,num_equations):\n",
    "                    if (abs(a[k,i])>=1e-9):\n",
    "                        a[i,:]+=a[k,:]\n",
    "                        b[i]+=b[k]\n",
    "                        break\n",
    "            \n",
    "                \n",
    "            for j in range(i+1,num_equations):\n",
    "                factor = a[j,i]/a[i,i]\n",
    "                a[j,:]-=a[i,:]*factor\n",
    "                b[j]-=b[i]*factor\n",
    "\n",
    "    def backward(a,b):\n",
    "        x = numpy.zeros((len(b),1))\n",
    "        for i in range(num_equations-1,-1,-1):\n",
    "            x[i]=b[i]/a[i,i]\n",
    "            if(i>0):\n",
    "                for j in range(i-1,-1,-1):\n",
    "                    b[j]-=a[j,i]*x[i]\n",
    "                    a[j,i]=0\n",
    "        # then do something to a and b\n",
    "        res = list()\n",
    "        for i in range(0,len(b)):\n",
    "            res.append(x[i,0])\n",
    "        return res\n",
    "\n",
    "    forward(a,b)\n",
    "    return backward(a,b)\n",
    "\n",
    "a = numpy.array([\n",
    "    [1,1,1],\n",
    "    [3,0,3],\n",
    "    [1,1,0]\n",
    "],dtype='float64')\n",
    "\n",
    "b = numpy.array([5,6,7],dtype='float64')\n",
    "\n",
    "res = gauss(a, b)\n",
    "\n",
    "print(f\"res={res}\")\n",
    "\n",
    "print(f\"a*res={numpy.matmul(a,res)},b={b}\")\n"
   ]
  },
  {
   "cell_type": "code",
   "execution_count": null,
   "metadata": {},
   "outputs": [],
   "source": []
  }
 ],
 "metadata": {
  "kernelspec": {
   "display_name": "Python 3",
   "language": "python",
   "name": "python3"
  },
  "language_info": {
   "codemirror_mode": {
    "name": "ipython",
    "version": 3
   },
   "file_extension": ".py",
   "mimetype": "text/x-python",
   "name": "python",
   "nbconvert_exporter": "python",
   "pygments_lexer": "ipython3",
   "version": "3.7.0"
  }
 },
 "nbformat": 4,
 "nbformat_minor": 2
}
