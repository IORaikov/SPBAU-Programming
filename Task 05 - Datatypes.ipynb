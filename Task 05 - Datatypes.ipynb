{
 "cells": [
  {
   "cell_type": "markdown",
   "metadata": {},
   "source": [
    "## Задание\n",
    "\n",
    "*Придумать и реализовать какой-нибудь свой тип данных с операциями. Вот идеи:*\n",
    "\n",
    "* числа по модулю;\n",
    "* обычные числа, но с ошибками при вычислениях;\n",
    "* [кватеринионы](https://en.wikipedia.org/wiki/Quaternion);\n",
    "* можно матрицы (в т.ч. вектора) — они и так в NumPy есть, но всё равно же интересно;\n",
    "* что угодно на свой вкус, над чем можно определить арифметику или её подобие."
   ]
  },
  {
   "cell_type": "code",
   "execution_count": 2,
   "metadata": {},
   "outputs": [
    {
     "name": "stdout",
     "output_type": "stream",
     "text": [
      "12\n",
      "False\n",
      "True\n",
      "2\n",
      "3\n",
      "3\n",
      "22\n",
      "0\n",
      "1\n"
     ]
    }
   ],
   "source": [
    "#Будем реализовывать кольцо натуральных чисел по модулю, скажем,  23.\n",
    "class Z23Error(Exception):\n",
    "    pass\n",
    "class Z23:\n",
    "    def __init__(self,n):\n",
    "        if isinstance(n,int):\n",
    "            self.value=int(n%23)\n",
    "        else:\n",
    "            raise Z23Error(\"Cannot create a Z23 from \" + str(type(n)))\n",
    "    def __str__(self):\n",
    "        return str(self.value)\n",
    "    def __eq__(self,other):\n",
    "        #Сравнение по модулю - можно и с int-ами.\n",
    "        if isinstance(other, Z23):\n",
    "            return self.value==other.value\n",
    "        if isinstance(other, int):\n",
    "            return self.value==(other%23)\n",
    "        raise Z23Error(\"Cannot compare a Z23 to \"+str(type(other)))\n",
    "    def __add__(self,other):\n",
    "        if isinstance(other,int):\n",
    "            other = Z23(other)\n",
    "        if isinstance(other, Z23):\n",
    "            return Z23(self.value+other.value)\n",
    "        raise Z23Error(\"Cannot add a Z23 and \"+str(type(other)))\n",
    "    def __sub__(self,other):\n",
    "        return self+(-other)\n",
    "    def __mul__(self,other):\n",
    "        if isinstance(other,int):\n",
    "            other = Z23(other)\n",
    "        if isinstance(other, Z23):\n",
    "            return Z23(self.value*other.value)\n",
    "        raise Z23Error(\"Cannot multiply a Z23 and \"+str(type(other)))\n",
    "    def __int__(self):\n",
    "        return self.value\n",
    "    def __pow__(self,other):\n",
    "        #Возведение в неотрицательную степень(по умножению)\n",
    "        if isinstance(other,int):\n",
    "            if(other==0):\n",
    "                return 1\n",
    "            res = self\n",
    "            for i in range(1,other):\n",
    "                res *= self\n",
    "            return res\n",
    "    def __neg__(self):\n",
    "        #Обратное по сложению\n",
    "        return Z23(23-self.value)\n",
    "\n",
    "a=Z23(12)\n",
    "print(a)\n",
    "print(a==2)\n",
    "print(a==35)\n",
    "print(a*4)\n",
    "#print(Z23(5.5))\n",
    "print(a*12*12)\n",
    "print(a**3)\n",
    "print(a-13)\n",
    "print(a+(-a))\n",
    "print(a**0)"
   ]
  },
  {
   "cell_type": "code",
   "execution_count": null,
   "metadata": {},
   "outputs": [],
   "source": []
  }
 ],
 "metadata": {
  "kernelspec": {
   "display_name": "Python 3",
   "language": "python",
   "name": "python3"
  },
  "language_info": {
   "codemirror_mode": {
    "name": "ipython",
    "version": 3
   },
   "file_extension": ".py",
   "mimetype": "text/x-python",
   "name": "python",
   "nbconvert_exporter": "python",
   "pygments_lexer": "ipython3",
   "version": "3.7.0"
  }
 },
 "nbformat": 4,
 "nbformat_minor": 2
}
